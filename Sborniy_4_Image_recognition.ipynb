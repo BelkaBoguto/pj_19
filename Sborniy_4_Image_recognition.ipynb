{
 "cells": [
  {
   "cell_type": "markdown",
   "id": "a1e1a7f2",
   "metadata": {
    "toc": true
   },
   "source": [
    "<h1>Table of Contents<span class=\"tocSkip\"></span></h1>\n",
    "<div class=\"toc\"><ul class=\"toc-item\"><li><span><a href=\"#Описание-проекта\" data-toc-modified-id=\"Описание-проекта-1\"><span class=\"toc-item-num\">1&nbsp;&nbsp;</span>Описание проекта</a></span></li><li><span><a href=\"#Описание-данных\" data-toc-modified-id=\"Описание-данных-2\"><span class=\"toc-item-num\">2&nbsp;&nbsp;</span>Описание данных</a></span></li><li><span><a href=\"#План-проекта\" data-toc-modified-id=\"План-проекта-3\"><span class=\"toc-item-num\">3&nbsp;&nbsp;</span>План проекта</a></span></li><li><span><a href=\"#Загрузка-библиотек\" data-toc-modified-id=\"Загрузка-библиотек-4\"><span class=\"toc-item-num\">4&nbsp;&nbsp;</span>Загрузка библиотек</a></span></li><li><span><a href=\"#Загрузка-и-исследовательский-анализ-данных\" data-toc-modified-id=\"Загрузка-и-исследовательский-анализ-данных-5\"><span class=\"toc-item-num\">5&nbsp;&nbsp;</span>Загрузка и исследовательский анализ данных</a></span><ul class=\"toc-item\"><li><span><a href=\"#Train-dataset\" data-toc-modified-id=\"Train-dataset-5.1\"><span class=\"toc-item-num\">5.1&nbsp;&nbsp;</span>Train dataset</a></span></li><li><span><a href=\"#CrowdAnnotations\" data-toc-modified-id=\"CrowdAnnotations-5.2\"><span class=\"toc-item-num\">5.2&nbsp;&nbsp;</span>CrowdAnnotations</a></span></li><li><span><a href=\"#ExpertAnnotations\" data-toc-modified-id=\"ExpertAnnotations-5.3\"><span class=\"toc-item-num\">5.3&nbsp;&nbsp;</span>ExpertAnnotations</a></span></li><li><span><a href=\"#Test_queries\" data-toc-modified-id=\"Test_queries-5.4\"><span class=\"toc-item-num\">5.4&nbsp;&nbsp;</span>Test_queries</a></span></li><li><span><a href=\"#Проверка-на-дубликаты\" data-toc-modified-id=\"Проверка-на-дубликаты-5.5\"><span class=\"toc-item-num\">5.5&nbsp;&nbsp;</span>Проверка на дубликаты</a></span></li><li><span><a href=\"#Выделение-датафрейма-&quot;идеальных-совпадений&quot;\" data-toc-modified-id=\"Выделение-датафрейма-&quot;идеальных-совпадений&quot;-5.6\"><span class=\"toc-item-num\">5.6&nbsp;&nbsp;</span>Выделение датафрейма \"идеальных совпадений\"</a></span></li><li><span><a href=\"#Объединение-данных---нужно-ли?\" data-toc-modified-id=\"Объединение-данных---нужно-ли?-5.7\"><span class=\"toc-item-num\">5.7&nbsp;&nbsp;</span>Объединение данных - нужно ли?</a></span></li></ul></li><li><span><a href=\"#Подготовка-данных-к-обучению\" data-toc-modified-id=\"Подготовка-данных-к-обучению-6\"><span class=\"toc-item-num\">6&nbsp;&nbsp;</span>Подготовка данных к обучению</a></span><ul class=\"toc-item\"><li><span><a href=\"#Соблюдение-юридических-ограничений\" data-toc-modified-id=\"Соблюдение-юридических-ограничений-6.1\"><span class=\"toc-item-num\">6.1&nbsp;&nbsp;</span>Соблюдение юридических ограничений</a></span></li><li><span><a href=\"#Преобразование-изображений-в-вектор\" data-toc-modified-id=\"Преобразование-изображений-в-вектор-6.2\"><span class=\"toc-item-num\">6.2&nbsp;&nbsp;</span>Преобразование изображений в вектор</a></span></li><li><span><a href=\"#Преобразование-текстов-в-вектор\" data-toc-modified-id=\"Преобразование-текстов-в-вектор-6.3\"><span class=\"toc-item-num\">6.3&nbsp;&nbsp;</span>Преобразование текстов в вектор</a></span></li><li><span><a href=\"#Описание-полученных-данных\" data-toc-modified-id=\"Описание-полученных-данных-6.4\"><span class=\"toc-item-num\">6.4&nbsp;&nbsp;</span>Описание полученных данных</a></span></li></ul></li><li><span><a href=\"#Обучение-моделей\" data-toc-modified-id=\"Обучение-моделей-7\"><span class=\"toc-item-num\">7&nbsp;&nbsp;</span>Обучение моделей</a></span></li></ul></div>"
   ]
  },
  {
   "cell_type": "markdown",
   "id": "bf2c9ac8",
   "metadata": {},
   "source": [
    "# Проект: Поиск по изображениям"
   ]
  },
  {
   "cell_type": "markdown",
   "id": "b8b5d658",
   "metadata": {},
   "source": [
    "## Описание проекта"
   ]
  },
  {
   "cell_type": "markdown",
   "id": "6222a347",
   "metadata": {},
   "source": [
    "**Идея PoC (Proof of Concept, Проверка концепции) проекта:**\n",
    "\n",
    "Разработать демонстрационную версию сервиса поиска изображений по текстовым описаниям, \n",
    "которая будет использовать нейросетевые модели для оценки соответствия между текстом и изображением.\n",
    "\n",
    "**Юридические ограничения:** в некоторых странах, где работает компания With Sense, действуют ограничения по обработке изображений:  поисковым сервисам и сервисам, предоставляющим возможность поиска, запрещено без разрешения родителей или законных представителей предоставлять любую информацию, в том числе, но не исключительно, текстов, изображений, видео и аудио, содержание описание, изображение или запись голоса детей. Ребенком считается любой человек, не достигший возраста 16-ти лет.\n",
    "\n",
    "При попытке посмотреть изображения, запрещенные законодательством, вместо картинок показывается дисклеймер: `This image is unavaliable in your country in compliance with local laws`.\n",
    "\n",
    "Тренировочные данные необходимо очистить от проблемного контента. Во время тестирования модели при появлении в запросе \"вредного\" контента должен отображаться дисклеймер."
   ]
  },
  {
   "cell_type": "markdown",
   "id": "f6929141",
   "metadata": {},
   "source": [
    "## Описание данных"
   ]
  },
  {
   "cell_type": "markdown",
   "id": "6ca2e2de",
   "metadata": {},
   "source": [
    "Данные доступны по [ссылке](https://code.s3.yandex.net/datasets/dsplus_integrated_project_4.zip).\n",
    "\n",
    "В файле `train_dataset.csv` находится информация, необходимая для обучения: имя файла изображения, идентификатор описания и текст описания. Для одной картинки может быть доступно до 5 описаний. Идентификатор описания имеет формат `<имя файла изображения>#<порядковый номер описания>`.\n",
    "\n",
    "В папке `train_images` содержатся изображения для тренировки модели.\n",
    "\n",
    "В файле `CrowdAnnotations.tsv` — данные по соответствию изображения и описания, полученные с помощью краудсорсинга. Номера колонок и соответствующий тип данных:\n",
    "\n",
    "1. Имя файла изображения.\n",
    "2. Идентификатор описания.\n",
    "3. Доля людей, подтвердивших, что описание соответствует изображению.\n",
    "4. Количество человек, подтвердивших, что описание соответствует изображению.\n",
    "5. Количество человек, подтвердивших, что описание не соответствует изображению.\n",
    "\n",
    "В файле `ExpertAnnotations.tsv` содержатся данные по соответствию изображения и описания, полученные в результате опроса экспертов. Номера колонок и соответствующий тип данных:\n",
    "\n",
    "1. Имя файла изображения.\n",
    "2. Идентификатор описания.\n",
    "\n",
    "3, 4, 5 — оценки трёх экспертов.\n",
    "\n",
    "Эксперты ставят оценки по шкале от 1 до 4, где 1 — изображение и запрос совершенно не соответствуют друг другу, 2 — запрос содержит элементы описания изображения, но в целом запрос тексту не соответствует, 3 — запрос и текст соответствуют с точностью до некоторых деталей, 4 — запрос и текст соответствуют полностью.\n",
    "\n",
    "В файле `test_queries.csv` находится информация, необходимая для тестирования: идентификатор запроса, текст запроса и релевантное изображение. Для одной картинки может быть доступно до 5 описаний. Идентификатор описания имеет формат `<имя файла изображения>#<порядковый номер описания>`.\n",
    "\n",
    "В папке `test_images` содержатся изображения для тестирования модели."
   ]
  },
  {
   "cell_type": "markdown",
   "id": "62d5429f",
   "metadata": {},
   "source": [
    "## План проекта"
   ]
  },
  {
   "cell_type": "markdown",
   "id": "a823a52e",
   "metadata": {},
   "source": [
    "1. **Исследовательский анализ данных**:\n",
    "   - Загрузить и прочесть данные из файлов\n",
    "   - Проверить и удалить дубликаты и некачественные данные.\n",
    "\n",
    "\n",
    "2. **Подготовка данных к обучению модели**:\n",
    "   - Удалить данные, нарушающие юридические ограничения (например, изображения детей).\n",
    "   - Преобразование текстов с помощью одного из трех методов (TF-IDF, BERT, word2vec).\n",
    "   - Преобразование изображений в векторные представления с использованием модели ResNet50.\n",
    "   - Дать описание получившихся пар векторов с точки зрения их размерностей.\n",
    "\n",
    "\n",
    "3. **Обучение моделей**:\n",
    "   - Создать модель, которая покажет близость двух векторов. Модель должна принимать на вход конкатенированный вектор, состоящий из векторов описания и изображений, и предсказывать итоговую оценку экспертов.\n",
    "   - Выбрать метрику, по которой мы будем сравнивать точность различных моделей.\n",
    "   - Обучить несколько моделей с подбором гиперпараметров, среди которых обязательно нужно рассмотреть Линейную регрессию и Полносвязную нейронную сеть.\n",
    "\n",
    "\n",
    "4. **Тестирование моделей**:\n",
    "   - Выбрать лучшую модель.\n",
    "   - Произвести ее тестирование на тестовых данных.\n",
    "   - Написать функцию, которая принимает на вход текстовое описание, делает его векторизацию и возвращает картинку с максимальным значением метрики.\n",
    "   - С помощью функции протестировать работу модели на нескольких тестовых описаниях. \n",
    "\n",
    "\n",
    "5. **Сравнение моделей**:\n",
    "   - Описать лучшую модель.\n",
    "   - Описать, какие ошибки допускает модель во время поиска картинки по ее текстовому описанию.\n",
    "   - Оценить, насколько проект по созданию сервиса поиска фотографии по текстовому описанию практически осуществим."
   ]
  },
  {
   "cell_type": "markdown",
   "id": "7a7709fc",
   "metadata": {},
   "source": [
    "## Загрузка библиотек"
   ]
  },
  {
   "cell_type": "code",
   "execution_count": 59,
   "id": "c49d4e29",
   "metadata": {},
   "outputs": [],
   "source": [
    "# устанавливаем библиотеку\n",
    "\n",
    "#! pip install clip -q"
   ]
  },
  {
   "cell_type": "code",
   "execution_count": 60,
   "id": "0c9d208b",
   "metadata": {},
   "outputs": [],
   "source": [
    "#!pip install keras_nlp -q"
   ]
  },
  {
   "cell_type": "code",
   "execution_count": 61,
   "id": "8b677af7",
   "metadata": {},
   "outputs": [],
   "source": [
    "import os\n",
    "import pandas as pd\n",
    "import numpy as np\n",
    "import seaborn as sns\n",
    "import matplotlib.pyplot as plt\n",
    "import matplotlib.image as mpimg\n",
    "import random\n",
    "import nltk\n",
    "import re  \n",
    "import tqdm\n",
    "\n",
    "import clip\n",
    "\n",
    "import tensorflow as tf\n",
    "\n",
    "from nltk.corpus import stopwords\n",
    "from nltk.stem import WordNetLemmatizer\n",
    "from nltk.corpus import wordnet\n",
    "\n",
    "from pathlib import Path\n",
    "from PIL import Image\n",
    "\n",
    "\n",
    "from tqdm import tqdm\n",
    "from tqdm import notebook\n",
    "tqdm.pandas()\n",
    "\n",
    "\n",
    "from sklearn.model_selection import GroupShuffleSplit\n",
    "from sklearn.linear_model import LinearRegression, Ridge\n",
    "from sklearn.metrics import mean_absolute_error\n",
    "from sklearn.preprocessing import MinMaxScaler, StandardScaler\n",
    "\n",
    "from tensorflow import keras\n",
    "from tensorflow.keras.metrics import RootMeanSquaredError\n",
    "from tensorflow.keras.preprocessing.image import ImageDataGenerator\n",
    "from tensorflow.keras.applications.resnet import ResNet50\n",
    "from tensorflow.keras.models import Sequential\n",
    "from tensorflow.keras.layers import Dense, Flatten, GlobalAveragePooling2D, Conv2D, MaxPooling2D, BatchNormalization, Dropout\n",
    "from tensorflow.keras.optimizers import Adam\n",
    "from tensorflow.keras.applications.resnet50 import preprocess_input\n",
    "#import keras_nlp"
   ]
  },
  {
   "cell_type": "code",
   "execution_count": 62,
   "id": "12e0a47c",
   "metadata": {},
   "outputs": [
    {
     "name": "stderr",
     "output_type": "stream",
     "text": [
      "[nltk_data] Downloading package stopwords to\n",
      "[nltk_data]     C:\\Users\\ElenaB\\AppData\\Roaming\\nltk_data...\n",
      "[nltk_data]   Package stopwords is already up-to-date!\n",
      "[nltk_data] Downloading package punkt to\n",
      "[nltk_data]     C:\\Users\\ElenaB\\AppData\\Roaming\\nltk_data...\n",
      "[nltk_data]   Package punkt is already up-to-date!\n",
      "[nltk_data] Downloading package wordnet to\n",
      "[nltk_data]     C:\\Users\\ElenaB\\AppData\\Roaming\\nltk_data...\n",
      "[nltk_data]   Package wordnet is already up-to-date!\n"
     ]
    },
    {
     "data": {
      "text/plain": [
       "True"
      ]
     },
     "execution_count": 62,
     "metadata": {},
     "output_type": "execute_result"
    }
   ],
   "source": [
    "nltk.download('stopwords') \n",
    "nltk.download('punkt') \n",
    "nltk.download('wordnet') "
   ]
  },
  {
   "cell_type": "markdown",
   "id": "6b1761ab",
   "metadata": {},
   "source": [
    "## Загрузка и исследовательский анализ данных"
   ]
  },
  {
   "cell_type": "code",
   "execution_count": 63,
   "id": "64cf75e4",
   "metadata": {},
   "outputs": [],
   "source": [
    "# путь к файлам, чтобы можно было использовать другое местоположение\n",
    "\n",
    "data_path = \"C:\\\\Users\\\\ElenaB\\\\Projects\\\\pj_19\\\\dsplus_integrated_project_4\\\\to_upload\""
   ]
  },
  {
   "cell_type": "markdown",
   "id": "fc404f45",
   "metadata": {},
   "source": [
    "### Train dataset"
   ]
  },
  {
   "cell_type": "code",
   "execution_count": 64,
   "id": "687f06e1",
   "metadata": {},
   "outputs": [],
   "source": [
    "# откроем файл с данными для обучения\n",
    "\n",
    "data_train = pd.read_csv(os.path.join(data_path, 'train_dataset.csv'))"
   ]
  },
  {
   "cell_type": "code",
   "execution_count": 65,
   "id": "62714d93",
   "metadata": {},
   "outputs": [
    {
     "name": "stdout",
     "output_type": "stream",
     "text": [
      "<class 'pandas.core.frame.DataFrame'>\n",
      "RangeIndex: 5822 entries, 0 to 5821\n",
      "Data columns (total 3 columns):\n",
      " #   Column      Non-Null Count  Dtype \n",
      "---  ------      --------------  ----- \n",
      " 0   image       5822 non-null   object\n",
      " 1   query_id    5822 non-null   object\n",
      " 2   query_text  5822 non-null   object\n",
      "dtypes: object(3)\n",
      "memory usage: 136.6+ KB\n"
     ]
    }
   ],
   "source": [
    "# посмотрим информацию о файле\n",
    "\n",
    "data_train.info()"
   ]
  },
  {
   "cell_type": "code",
   "execution_count": 66,
   "id": "12b1189b",
   "metadata": {},
   "outputs": [
    {
     "data": {
      "text/html": [
       "<div>\n",
       "<style scoped>\n",
       "    .dataframe tbody tr th:only-of-type {\n",
       "        vertical-align: middle;\n",
       "    }\n",
       "\n",
       "    .dataframe tbody tr th {\n",
       "        vertical-align: top;\n",
       "    }\n",
       "\n",
       "    .dataframe thead th {\n",
       "        text-align: right;\n",
       "    }\n",
       "</style>\n",
       "<table border=\"1\" class=\"dataframe\">\n",
       "  <thead>\n",
       "    <tr style=\"text-align: right;\">\n",
       "      <th></th>\n",
       "      <th>image</th>\n",
       "      <th>query_id</th>\n",
       "      <th>query_text</th>\n",
       "    </tr>\n",
       "  </thead>\n",
       "  <tbody>\n",
       "    <tr>\n",
       "      <th>0</th>\n",
       "      <td>1056338697_4f7d7ce270.jpg</td>\n",
       "      <td>2549968784_39bfbe44f9.jpg#2</td>\n",
       "      <td>A young child is wearing blue goggles and sitt...</td>\n",
       "    </tr>\n",
       "    <tr>\n",
       "      <th>1</th>\n",
       "      <td>1262583859_653f1469a9.jpg</td>\n",
       "      <td>2549968784_39bfbe44f9.jpg#2</td>\n",
       "      <td>A young child is wearing blue goggles and sitt...</td>\n",
       "    </tr>\n",
       "    <tr>\n",
       "      <th>2</th>\n",
       "      <td>2447284966_d6bbdb4b6e.jpg</td>\n",
       "      <td>2549968784_39bfbe44f9.jpg#2</td>\n",
       "      <td>A young child is wearing blue goggles and sitt...</td>\n",
       "    </tr>\n",
       "    <tr>\n",
       "      <th>3</th>\n",
       "      <td>2549968784_39bfbe44f9.jpg</td>\n",
       "      <td>2549968784_39bfbe44f9.jpg#2</td>\n",
       "      <td>A young child is wearing blue goggles and sitt...</td>\n",
       "    </tr>\n",
       "    <tr>\n",
       "      <th>4</th>\n",
       "      <td>2621415349_ef1a7e73be.jpg</td>\n",
       "      <td>2549968784_39bfbe44f9.jpg#2</td>\n",
       "      <td>A young child is wearing blue goggles and sitt...</td>\n",
       "    </tr>\n",
       "    <tr>\n",
       "      <th>5</th>\n",
       "      <td>3030566410_393c36a6c5.jpg</td>\n",
       "      <td>2549968784_39bfbe44f9.jpg#2</td>\n",
       "      <td>A young child is wearing blue goggles and sitt...</td>\n",
       "    </tr>\n",
       "    <tr>\n",
       "      <th>6</th>\n",
       "      <td>3155451946_c0862c70cb.jpg</td>\n",
       "      <td>2549968784_39bfbe44f9.jpg#2</td>\n",
       "      <td>A young child is wearing blue goggles and sitt...</td>\n",
       "    </tr>\n",
       "    <tr>\n",
       "      <th>7</th>\n",
       "      <td>3222041930_f642f49d28.jpg</td>\n",
       "      <td>2549968784_39bfbe44f9.jpg#2</td>\n",
       "      <td>A young child is wearing blue goggles and sitt...</td>\n",
       "    </tr>\n",
       "    <tr>\n",
       "      <th>8</th>\n",
       "      <td>343218198_1ca90e0734.jpg</td>\n",
       "      <td>2549968784_39bfbe44f9.jpg#2</td>\n",
       "      <td>A young child is wearing blue goggles and sitt...</td>\n",
       "    </tr>\n",
       "    <tr>\n",
       "      <th>9</th>\n",
       "      <td>3718964174_cb2dc1615e.jpg</td>\n",
       "      <td>2549968784_39bfbe44f9.jpg#2</td>\n",
       "      <td>A young child is wearing blue goggles and sitt...</td>\n",
       "    </tr>\n",
       "  </tbody>\n",
       "</table>\n",
       "</div>"
      ],
      "text/plain": [
       "                       image                     query_id  \\\n",
       "0  1056338697_4f7d7ce270.jpg  2549968784_39bfbe44f9.jpg#2   \n",
       "1  1262583859_653f1469a9.jpg  2549968784_39bfbe44f9.jpg#2   \n",
       "2  2447284966_d6bbdb4b6e.jpg  2549968784_39bfbe44f9.jpg#2   \n",
       "3  2549968784_39bfbe44f9.jpg  2549968784_39bfbe44f9.jpg#2   \n",
       "4  2621415349_ef1a7e73be.jpg  2549968784_39bfbe44f9.jpg#2   \n",
       "5  3030566410_393c36a6c5.jpg  2549968784_39bfbe44f9.jpg#2   \n",
       "6  3155451946_c0862c70cb.jpg  2549968784_39bfbe44f9.jpg#2   \n",
       "7  3222041930_f642f49d28.jpg  2549968784_39bfbe44f9.jpg#2   \n",
       "8   343218198_1ca90e0734.jpg  2549968784_39bfbe44f9.jpg#2   \n",
       "9  3718964174_cb2dc1615e.jpg  2549968784_39bfbe44f9.jpg#2   \n",
       "\n",
       "                                          query_text  \n",
       "0  A young child is wearing blue goggles and sitt...  \n",
       "1  A young child is wearing blue goggles and sitt...  \n",
       "2  A young child is wearing blue goggles and sitt...  \n",
       "3  A young child is wearing blue goggles and sitt...  \n",
       "4  A young child is wearing blue goggles and sitt...  \n",
       "5  A young child is wearing blue goggles and sitt...  \n",
       "6  A young child is wearing blue goggles and sitt...  \n",
       "7  A young child is wearing blue goggles and sitt...  \n",
       "8  A young child is wearing blue goggles and sitt...  \n",
       "9  A young child is wearing blue goggles and sitt...  "
      ]
     },
     "execution_count": 66,
     "metadata": {},
     "output_type": "execute_result"
    }
   ],
   "source": [
    "# посмотрим образец данных\n",
    "\n",
    "data_train.head(10)"
   ]
  },
  {
   "cell_type": "code",
   "execution_count": 67,
   "id": "b5d6e8ce",
   "metadata": {},
   "outputs": [
    {
     "name": "stdout",
     "output_type": "stream",
     "text": [
      "image 1000\n",
      "query_id 977\n",
      "query_text 977\n"
     ]
    }
   ],
   "source": [
    "# посмотрим на количество уникальных значений в колонках\n",
    "\n",
    "for i in data_train.columns:\n",
    "    print(i, data_train[i].nunique())"
   ]
  },
  {
   "cell_type": "markdown",
   "id": "95223a42",
   "metadata": {},
   "source": [
    "Не совсем понимаю, почему для десяти первых изображений в таблице зафиксированы одинаковые текстовые запросы и их идентификаторы. Обещано было следующее: \"Для одной картинки может быть доступно до 5 описаний.\" И если у нас есть одно описание для минимум 10 картинок, а всего таких уникальных описаний - 977, а строк в данных 5822, то что-то не сходится."
   ]
  },
  {
   "cell_type": "code",
   "execution_count": null,
   "id": "6c115ea0",
   "metadata": {},
   "outputs": [],
   "source": [
    "# посмотрим данные таблицы для первого изображения\n",
    "\n",
    "data_train.query('image == \"1056338697_4f7d7ce270.jpg\"')"
   ]
  },
  {
   "cell_type": "markdown",
   "id": "de7b55f4",
   "metadata": {},
   "source": [
    "Восемь описаний. Не пять, как было указано в постановке задачи.\n",
    "\n",
    "При этом, можно заметить, что в первых десяти строках датафрейма в 4 строке название изображения и название его в идентификаторе совпадают. Возможно, это \"истинное совпадение\". \n",
    "\n",
    "А для первого изображения \"истинного совпадения\" нет."
   ]
  },
  {
   "cell_type": "code",
   "execution_count": null,
   "id": "2b37f02b",
   "metadata": {},
   "outputs": [],
   "source": [
    "# а если посмотреть для первого идентификатора описания\n",
    "\n",
    "data_train.query('query_id == \"2549968784_39bfbe44f9.jpg#2\"')"
   ]
  },
  {
   "cell_type": "markdown",
   "id": "ff03b99f",
   "metadata": {},
   "source": [
    "Двенадцать изображений к одному описанию. И только одно предположительно истинное."
   ]
  },
  {
   "cell_type": "markdown",
   "id": "a8733813",
   "metadata": {},
   "source": [
    "### CrowdAnnotations"
   ]
  },
  {
   "cell_type": "code",
   "execution_count": null,
   "id": "c8233f44",
   "metadata": {},
   "outputs": [],
   "source": [
    "# посмотрим второй файл\n",
    "\n",
    "data_crowd = pd.read_csv(os.path.join(data_path, 'CrowdAnnotations.tsv'), sep='\\t', \n",
    "                        names = ['image', 'query_id', 'perc_pos', 'num_pos', 'num_neg'])"
   ]
  },
  {
   "cell_type": "code",
   "execution_count": null,
   "id": "0693b1d7",
   "metadata": {},
   "outputs": [],
   "source": [
    "# посмотрим информацию о нем\n",
    "\n",
    "data_crowd.info()"
   ]
  },
  {
   "cell_type": "code",
   "execution_count": null,
   "id": "c7711a0c",
   "metadata": {},
   "outputs": [],
   "source": [
    "# посмотрим первые строки\n",
    "\n",
    "data_crowd.head(10)"
   ]
  },
  {
   "cell_type": "markdown",
   "id": "d773d149",
   "metadata": {},
   "source": [
    "В выборку попало истинное сочетание - первая строка. Но, например, в 8 строке один проверяющий также обнаружил сходство в изображении с текстом запроса.\n",
    "\n",
    "И снова можно видеть, что для одного изображения у нас много строк с текстовыми запросами."
   ]
  },
  {
   "cell_type": "code",
   "execution_count": null,
   "id": "60a2a9b6",
   "metadata": {},
   "outputs": [],
   "source": [
    "# посмотрим на количество уникальных значений в колонках\n",
    "\n",
    "for i in data_crowd.columns:\n",
    "    print(i, data_crowd[i].nunique())"
   ]
  },
  {
   "cell_type": "code",
   "execution_count": null,
   "id": "a8d60232",
   "metadata": {
    "scrolled": true
   },
   "outputs": [],
   "source": [
    "# посмотрим данные таблицы для первого изображения\n",
    "\n",
    "data_crowd.query('image == \"1056338697_4f7d7ce270.jpg\"')"
   ]
  },
  {
   "cell_type": "code",
   "execution_count": null,
   "id": "88cb1757",
   "metadata": {},
   "outputs": [],
   "source": [
    "# а если посмотреть для первого идентификатора описания\n",
    "\n",
    "data_crowd.query('query_id == \"2549968784_39bfbe44f9.jpg#2\"')"
   ]
  },
  {
   "cell_type": "markdown",
   "id": "76a6fcc9",
   "metadata": {},
   "source": [
    "По 50 запросов к одной картинке. И по 66 картинок к одному запросу. Но соответствие достигается редко. Возможно, запросы слишком подробные? И обилие деталей в запросе отделяет его от совпадения. Посмотрим, как часто в этом файле встречаются совпадения в запросе и изображении."
   ]
  },
  {
   "cell_type": "code",
   "execution_count": null,
   "id": "4b8fdab3",
   "metadata": {},
   "outputs": [],
   "source": [
    "data_crowd['perc_pos'].value_counts()"
   ]
  },
  {
   "cell_type": "markdown",
   "id": "f573e073",
   "metadata": {},
   "source": [
    "1323 раза было отмечено, что изображения полностью соответствуют запросу. И почти 42000 раз было отмечено, что изображение не соответствует запросу.\n",
    "\n",
    "В общем, кажется логичным, что модели было бы полезно знать не только какие изображения подходят к запросу, но и какие точно не подходят к запросу. Но по условию мы должны предсказать оценку экспертов, не краудсорсинга."
   ]
  },
  {
   "cell_type": "code",
   "execution_count": null,
   "id": "e448d061",
   "metadata": {},
   "outputs": [],
   "source": [
    "plt.rcParams['figure.figsize'] = [15, 8]\n",
    "sns.countplot(data=data_crowd, x='perc_pos');\n",
    "plt.title('Распределение оценок краудсорсинга');\n",
    "plt.ylabel('Количество оценок');\n",
    "plt.xlabel('Доля людей, подтвердивших, что описание сооветствует изображению');"
   ]
  },
  {
   "cell_type": "markdown",
   "id": "3381494e",
   "metadata": {},
   "source": [
    "### ExpertAnnotations"
   ]
  },
  {
   "cell_type": "code",
   "execution_count": null,
   "id": "faacfd63",
   "metadata": {},
   "outputs": [],
   "source": [
    "# посмотрим третий файл\n",
    "\n",
    "data_expert = pd.read_csv(os.path.join(data_path, 'ExpertAnnotations.tsv'), sep='\\t', \n",
    "                        names = ['image', 'query_id', 'first', 'second', 'third'])"
   ]
  },
  {
   "cell_type": "code",
   "execution_count": null,
   "id": "d5d3d4b4",
   "metadata": {},
   "outputs": [],
   "source": [
    "# посмотрим информацию о нем\n",
    "\n",
    "data_expert.info()"
   ]
  },
  {
   "cell_type": "code",
   "execution_count": null,
   "id": "f2af69d5",
   "metadata": {},
   "outputs": [],
   "source": [
    "# посмотрим первые строки\n",
    "\n",
    "data_expert.head(10)"
   ]
  },
  {
   "cell_type": "markdown",
   "id": "88d670eb",
   "metadata": {},
   "source": [
    "Для начала, в этом файле у нас столько же записей, сколько и в обучающем файле. Можно предположить, что изображения и идентификаторы запросов в этих файлах совпадут. Для первой картинки у нас представлено 8 описаний, как и в первом файле.\n",
    "\n",
    "Посмотрим, одинаково ли оценивали эксперты данные:"
   ]
  },
  {
   "cell_type": "code",
   "execution_count": null,
   "id": "f445edce",
   "metadata": {},
   "outputs": [],
   "source": [
    "# Подготовка данных\n",
    "\n",
    "score_counts = data_expert[['first', 'second', 'third']].apply(pd.Series.value_counts).fillna(0).astype(int)\n",
    "score_counts.index.name = 'score'\n",
    "score_counts = score_counts.reset_index()\n",
    "\n",
    "# Построение г-ка\n",
    "\n",
    "bar_width = 0.25\n",
    "x = score_counts['score']\n",
    "\n",
    "plt.bar(x - bar_width, score_counts['first'], width=bar_width, label='Эксперт 1', color='blue')\n",
    "plt.bar(x, score_counts['second'], width=bar_width, label='Эксперт 2', color='red')\n",
    "plt.bar(x + bar_width, score_counts['third'], width=bar_width, label='Эксперт 3', color='green')\n",
    "\n",
    "plt.xlabel('Оценка')\n",
    "plt.ylabel('Частота')\n",
    "plt.title('Распределение оценок от всех трех экспертов')\n",
    "plt.xticks(x)\n",
    "plt.legend(loc='upper right')\n",
    "plt.show()"
   ]
  },
  {
   "cell_type": "markdown",
   "id": "ed59305e",
   "metadata": {},
   "source": [
    "Напомним значение оценок: \n",
    "- 1 — изображение и запрос совершенно не соответствуют друг другу, \n",
    "- 2 — запрос содержит элементы описания изображения, но в целом запрос тексту не соответствует, \n",
    "- 3 — запрос и текст соответствуют с точностью до некоторых деталей, \n",
    "- 4 — запрос и текст соответствуют полностью. \n",
    "\n",
    "Эксперт 1 - очень строг в оценках. Наибольшая доля оценок \"1\" и наименьшая доля оценок \"4\".   \n",
    "Эксперт 3 - наоборот, наиболее мягок в оценках - наименьшая доля оценок \"1\", много оценок \"2\", и наибольшая доля оценок \"4\".   \n",
    "Эксперт 2 - нечто среднее между ними.   \n",
    "\n",
    "Получается, что для 1000 изображений, описание к которым предоставлено авторами фото и пользователями, не более 500 описаны корректно с точки зрения экспертов."
   ]
  },
  {
   "cell_type": "markdown",
   "id": "a284b026",
   "metadata": {},
   "source": [
    "### Test_queries"
   ]
  },
  {
   "cell_type": "code",
   "execution_count": null,
   "id": "6e4d29c6",
   "metadata": {},
   "outputs": [],
   "source": [
    "# откроем файл с  тестовыми данными\n",
    "\n",
    "data_test = pd.read_csv(os.path.join(data_path, 'test_queries.csv'), sep=\"|\", index_col=0)"
   ]
  },
  {
   "cell_type": "code",
   "execution_count": null,
   "id": "84edcb2b",
   "metadata": {},
   "outputs": [],
   "source": [
    "# посмотрим информацию о нем\n",
    "\n",
    "data_test.info()"
   ]
  },
  {
   "cell_type": "code",
   "execution_count": null,
   "id": "9215ddaf",
   "metadata": {},
   "outputs": [],
   "source": [
    "# посмотрим первые строки\n",
    "\n",
    "data_test.head(10)"
   ]
  },
  {
   "cell_type": "code",
   "execution_count": null,
   "id": "c1f21dc1",
   "metadata": {},
   "outputs": [],
   "source": [
    "#data_expert['query_id'].unique()"
   ]
  },
  {
   "cell_type": "markdown",
   "id": "21614f1e",
   "metadata": {},
   "source": [
    "МОжно заметить, что в тренировочных данных, в оценках экспертов и краудсорсинге используется только \"второе\" описание запроса. А вот в тестовых данных у нас появились те самые \"пять описаний на изображение\", о которых говорилось в задании."
   ]
  },
  {
   "cell_type": "code",
   "execution_count": null,
   "id": "29fedeb9",
   "metadata": {},
   "outputs": [],
   "source": [
    "# посмотрим на количество уникальных значений в колонках\n",
    "\n",
    "for i in data_test.columns:\n",
    "    print(i, data_test[i].nunique())"
   ]
  },
  {
   "cell_type": "markdown",
   "id": "25237fea",
   "metadata": {},
   "source": [
    "### Проверка на дубликаты"
   ]
  },
  {
   "cell_type": "code",
   "execution_count": null,
   "id": "7c940cc3",
   "metadata": {},
   "outputs": [],
   "source": [
    "print(data_train.duplicated().sum())\n",
    "print(data_crowd.duplicated().sum())\n",
    "print(data_expert.duplicated().sum())\n",
    "data_test.duplicated().sum()"
   ]
  },
  {
   "cell_type": "markdown",
   "id": "e4b78a2d",
   "metadata": {},
   "source": [
    "### Выделение датафрейма \"идеальных совпадений\""
   ]
  },
  {
   "cell_type": "code",
   "execution_count": null,
   "id": "d140ff90",
   "metadata": {},
   "outputs": [],
   "source": [
    "# добавим колонку с номером изображения из описания\n",
    "\n",
    "data_train['image_from_query_id'] = data_train['query_id'].apply(lambda x: x.split('#2')[0])"
   ]
  },
  {
   "cell_type": "code",
   "execution_count": null,
   "id": "1b107ba4",
   "metadata": {},
   "outputs": [],
   "source": [
    "# сформируем и посчитаем \"идеальные сочетания\"\n",
    "\n",
    "matches = data_train[data_train['image'] == data_train['image_from_query_id']]\n",
    "mismatches = data_train[data_train['image'] != data_train['image_from_query_id']]\n",
    "num_matches = len(matches)\n",
    "num_mismatches = len(mismatches)\n",
    "print(f\"Количество совпадающих пар: {num_matches}\")\n",
    "print(f\"Количество несоответствующих пар: {num_mismatches}\")\n",
    "\n",
    "\n",
    "# Вывод первых нескольких строк для проверки совпадений и несоответствий\n",
    "\n",
    "print(\"Пример совпадающих пар:\")\n",
    "display(matches.sample(3))"
   ]
  },
  {
   "cell_type": "markdown",
   "id": "8a494c6b",
   "metadata": {},
   "source": [
    "В тренировочных данных у нас 158 пар \"идеальных совпадений\". Можно будет попробовать обучить модель именно на них.\n",
    "\n",
    "Посмотрим на примеры таких изображений."
   ]
  },
  {
   "cell_type": "code",
   "execution_count": null,
   "id": "4cb2b53f",
   "metadata": {},
   "outputs": [],
   "source": [
    "# укажем путь к папкам с файлами изображений\n",
    "\n",
    "train_images_path = os.path.join(data_path, 'train_images')\n",
    "test_images_path = os.path.join(data_path, 'test_images')\n",
    "\n",
    "\n",
    "# Выбор 6 случайных идеально подходящих пар\n",
    "\n",
    "sampled_matches = matches.sample(6)\n",
    "\n",
    "\n",
    "# Функция для отображения изображения и его описания\n",
    "\n",
    "def display_image_and_description(ax, image_filename, description):\n",
    "     image_path = os.path.join(train_images_path, image_filename)\n",
    "     img = mpimg.imread(image_path)\n",
    "     ax.imshow(img)\n",
    "     ax.axis('off')\n",
    "     ax.set_title(description, fontsize=9)\n",
    "\n",
    "        \n",
    "# Создание сетки фото 3 на 2 \n",
    "\n",
    "fig, axes = plt.subplots(2, 3, figsize=(15, 10))\n",
    "for i, (idx, row) in enumerate(sampled_matches.iterrows()):\n",
    "    ax = axes[i // 3, i % 3]\n",
    "    display_image_and_description(ax, row['image'], row['query_text'])\n",
    "\n",
    "plt.tight_layout()\n",
    "plt.show()"
   ]
  },
  {
   "cell_type": "code",
   "execution_count": null,
   "id": "3eb487e8",
   "metadata": {},
   "outputs": [],
   "source": [
    "# сохраним наш \"идеальный\" датафрейм \n",
    "\n",
    "matches = matches.drop(columns = ['image_from_query_id'], axis=1)\n",
    "matches.head()"
   ]
  },
  {
   "cell_type": "markdown",
   "id": "d61c043f",
   "metadata": {},
   "source": [
    "### Объединение данных - нужно ли?"
   ]
  },
  {
   "cell_type": "markdown",
   "id": "7de55cce",
   "metadata": {},
   "source": [
    "Итак, у нас есть 1000 изображений. И два файла с разным количеством описаний к изображениям. И с разным подходом к оценке соответствия.   \n",
    "В данных от краудсорсинга данных много, но исполнители могли выбирать ответ бинарно - или \"да\", или \"нет\".   \n",
    "В данных от экспертов данных меньше, но оценка проставлялась по шкале от 1 до 4, что более гибко описывает соответствие картинки и описания. Да и квалификация экспертов предполагается выше, чем у краудсорсеров.   \n",
    "**Я предпочту качество данных их количеству. Будем использовать датасет только с экспертной оценкой.**    \n",
    "Только необходимо привести их коллективное мнение к общему значению и произвести пересчет в шкалу от 0 до 1.   \n",
    "\n",
    "Используем метод \"голосования большинства\" в случаях, если оценка двух и более экспертов совпала. В противном случае будем использовать среднее значение. А затем произведем нормализацию показателя."
   ]
  },
  {
   "cell_type": "code",
   "execution_count": null,
   "id": "37d5bd48",
   "metadata": {},
   "outputs": [],
   "source": [
    "# Функция для обработки оценок\n",
    "\n",
    "def image_scores(df):\n",
    "    \n",
    "    def calculate_final_score(row):\n",
    "        scores = row[['first', 'second', 'third']]\n",
    "        \n",
    "        # Проверяем, сколько раз встречается каждое значение\n",
    "        \n",
    "        counts = scores.value_counts() # Если два и более эксперта проголосовали одинаково, используем это значение\n",
    "        if counts.max() >= 2:\n",
    "            return counts.idxmax()\n",
    "        else:\n",
    "            return np.mean(scores)  # Если все оценки разные, используем среднее\n",
    "\n",
    "    # Применяем функцию к каждой строке датафрейма\n",
    "    \n",
    "    df['final_score'] = df.apply(calculate_final_score, axis=1)\n",
    "    \n",
    "    # Нормализуем оценки в диапазоне от 0 до 1\n",
    "    df['normalized_score'] = (df['final_score'] - df['final_score'].min()) / (df['final_score'].max() - df['final_score'].min())\n",
    "    \n",
    "    return df"
   ]
  },
  {
   "cell_type": "code",
   "execution_count": null,
   "id": "0a05668f",
   "metadata": {},
   "outputs": [],
   "source": [
    "# примением ее в датафрейму с экспертными оценками\n",
    "\n",
    "data_avg = image_scores(data_expert)\n",
    "data_avg.head()"
   ]
  },
  {
   "cell_type": "code",
   "execution_count": null,
   "id": "9bb5db24",
   "metadata": {},
   "outputs": [],
   "source": [
    "# объединим датафреймы по двум колонкам\n",
    "\n",
    "data_concat = pd.merge(data_train, data_avg, how='inner', on=['query_id', 'image'])\n",
    "data_concat"
   ]
  },
  {
   "cell_type": "code",
   "execution_count": null,
   "id": "02220d48",
   "metadata": {},
   "outputs": [],
   "source": [
    "# отбросим ненужные колонки\n",
    "\n",
    "data_concat = data_concat.drop(columns=['image_from_query_id', 'first', 'second', 'third', 'final_score'], axis=1)\n",
    "data_concat"
   ]
  },
  {
   "cell_type": "markdown",
   "id": "7394a7c6",
   "metadata": {},
   "source": [
    "Вот наш датасет для обучения модели, который мы будем векторизовывать.   \n",
    "Проделаем еще объединение с \"идеальным\" датасетом."
   ]
  },
  {
   "cell_type": "code",
   "execution_count": null,
   "id": "05131588",
   "metadata": {},
   "outputs": [],
   "source": [
    "# объединим\n",
    "\n",
    "matches_concat = pd.merge(matches, data_avg, how='inner', on=['query_id', 'image'])\n",
    "matches_concat"
   ]
  },
  {
   "cell_type": "code",
   "execution_count": null,
   "id": "acd3676e",
   "metadata": {},
   "outputs": [],
   "source": [
    "# почистим\n",
    "\n",
    "matches_concat = matches_concat.drop(columns=['first', 'second', 'third', 'final_score'], axis=1)\n",
    "matches_concat"
   ]
  },
  {
   "cell_type": "code",
   "execution_count": null,
   "id": "ae31c7fc",
   "metadata": {},
   "outputs": [],
   "source": [
    "print(data_concat.duplicated().sum())\n",
    "matches_concat.duplicated().sum()"
   ]
  },
  {
   "cell_type": "markdown",
   "id": "1edb22de",
   "metadata": {},
   "source": [
    "**Вывод:** мы загрузили наши данные. Проверили, что пропусков или дубликатов в них нет. Изучили распределение оценок экспертов и краудсорсеров. Приняли решение использовать для обучения модели только оценки экспертов, как более гибкие и точные.   \n",
    "\n",
    "Посчитали усредненную оценку соответствия картинки и описания с помощью метода \"голосования большинства\". Объединили датафреймы и выделили из них два:\n",
    "- общий датафрейм, где содержится информация по 5822 строкам описаний к изображениям и оценка их соответствия.\n",
    "- и \"идеальный\" датафрейм, где содержится информация о 158 строках с идеальным соответствием картинки и описания."
   ]
  },
  {
   "cell_type": "markdown",
   "id": "6a591482",
   "metadata": {},
   "source": [
    "## Подготовка данных к обучению"
   ]
  },
  {
   "cell_type": "markdown",
   "id": "97dbcfde",
   "metadata": {},
   "source": [
    "### Соблюдение юридических ограничений"
   ]
  },
  {
   "cell_type": "markdown",
   "id": "d50eaa41",
   "metadata": {},
   "source": [
    "Нам необходимо создать список слов, которые могут попасть под юридические ограничения. По логике, это все слова, котоыре описывают детей. Описания у нас на английском языке, так что под этот набор могут попасть:"
   ]
  },
  {
   "cell_type": "code",
   "execution_count": null,
   "id": "62c0b26c",
   "metadata": {},
   "outputs": [],
   "source": [
    "# выделим список слов, определяющих детей\n",
    "\n",
    "law_stopwords = [\"child\", \"children\", \"kid\", \"kids\", \"baby\", \"babies\",\n",
    "    \"boy\", \"boys\", \"girl\", \"girls\", \"teen\", \"teens\", \"teenage\", \"teenager\",\n",
    "    \"teenagers\", \"infant\", \"infants\", \"youngster\", \"youngsters\", 'toddler', 'juvenile']"
   ]
  },
  {
   "cell_type": "code",
   "execution_count": null,
   "id": "9ee12e6f",
   "metadata": {},
   "outputs": [],
   "source": [
    "# инициализируем лемматизатор\n",
    "\n",
    "lemmatizer = WordNetLemmatizer()\n",
    "\n",
    "\n",
    "# загрузим стоп-слова из английского\n",
    "\n",
    "stop_words = set(stopwords.words('english'))"
   ]
  },
  {
   "cell_type": "code",
   "execution_count": null,
   "id": "93088b1c",
   "metadata": {},
   "outputs": [],
   "source": [
    "# Функция для лемматизации\n",
    "\n",
    "def lemmatize_text(text):\n",
    "    \n",
    "    text = re.sub('[^a-zA-Z]', ' ', text).lower()\n",
    "    text = nltk.word_tokenize(text, language = 'english')\n",
    "    text = [lemmatizer.lemmatize(word) for word in text]\n",
    "    return text\n",
    "\n",
    "\n",
    "def blocking(row):\n",
    "    \n",
    "    text = lemmatize_text(row['query_text'])\n",
    "    bin_array = [i for i in text if i in law_stopwords]\n",
    "    if bin_array:\n",
    "        row['should_block'] = 1\n",
    "    else:\n",
    "        row['should_block'] = 0\n",
    "    \n",
    "    return row"
   ]
  },
  {
   "cell_type": "code",
   "execution_count": null,
   "id": "924650e4",
   "metadata": {},
   "outputs": [],
   "source": [
    "# применим ее к нашему большому датафрейму\n",
    "\n",
    "data_concat = data_concat.progress_apply(blocking, axis=1)"
   ]
  },
  {
   "cell_type": "code",
   "execution_count": null,
   "id": "f9763f9d",
   "metadata": {},
   "outputs": [],
   "source": [
    "# узнаем, сколько строк нужно будет удалить\n",
    "\n",
    "data_concat['should_block'].value_counts()"
   ]
  },
  {
   "cell_type": "code",
   "execution_count": null,
   "id": "f91e5119",
   "metadata": {},
   "outputs": [],
   "source": [
    "# взглянем на заблокированные изображения, чтобы удостовериться в корректности функции\n",
    "\n",
    "samples_block = data_concat[data_concat['should_block'] == 1].sample(9)\n",
    "\n",
    "fig, axes = plt.subplots(3, 3, figsize=(15, 15))\n",
    "for i, (idx, row) in enumerate(samples_block.iterrows()):\n",
    "    ax = axes[i // 3, i % 3]\n",
    "    display_image_and_description(ax, row['image'], row['query_text'])\n",
    "\n",
    "plt.tight_layout()\n",
    "plt.show()"
   ]
  },
  {
   "cell_type": "markdown",
   "id": "fe34fe44",
   "metadata": {},
   "source": [
    "Хм, описания у нас попадают под юридические ограничения. Только вот картинки им достались не очень уж соответствующие. В 5 из 9 случайных картинок изображены дети. На остальных 4 - взрослые или животные.   \n",
    "\n",
    "Если мы удалим все строки с описаниями, включающими запрещенные слова, то мы лишимся части не запрещенных картинок.   \n",
    "Добавим условие, что у таких картинок `normalized score` должна быть больше 0,6?"
   ]
  },
  {
   "cell_type": "code",
   "execution_count": null,
   "id": "83133bdb",
   "metadata": {},
   "outputs": [],
   "source": [
    "samples_block_sec = data_concat.query('should_block == 1 and normalized_score > 0.6').sample(9)\n",
    "\n",
    "fig, axes = plt.subplots(3, 3, figsize=(15, 15))\n",
    "for i, (idx, row) in enumerate(samples_block_sec.iterrows()):\n",
    "    ax = axes[i // 3, i % 3]\n",
    "    display_image_and_description(ax, row['image'], row['query_text'])\n",
    "\n",
    "plt.tight_layout()\n",
    "plt.show()"
   ]
  },
  {
   "cell_type": "code",
   "execution_count": null,
   "id": "8fafcf37",
   "metadata": {},
   "outputs": [],
   "source": [
    "data_concat.query('normalized_score > 0.6')['should_block'].value_counts()"
   ]
  },
  {
   "cell_type": "markdown",
   "id": "0f0c6395",
   "metadata": {},
   "source": [
    "Получается, если мы блокируем все описания, где есть гипотетически незаконные слова, то мы лишаемся 1559 строк из 5822. А если используем более жесткий фильтр, что описание соответствует картинке, то лишаемся 130 строк из 5822. При этом все равно у нас могут остаться в наборе изображения детей, у которых просто нет в данных описания, содержащего незаконные слова.\n",
    "\n",
    "Раз по заданию мы должны удалить все изображения с детьми, и кроме как использовать их описания, у нас нет иного способа выделить их, придется воспользоваться более \"жестким\" методом. Удалим 1559 строк."
   ]
  },
  {
   "cell_type": "code",
   "execution_count": null,
   "id": "6e9a803d",
   "metadata": {},
   "outputs": [],
   "source": [
    "data_concat = data_concat.loc[data_concat['should_block'] == 0]\n",
    "data_concat = data_concat.drop(columns=['should_block'], axis=1)\n",
    "data_concat.head()"
   ]
  },
  {
   "cell_type": "markdown",
   "id": "6cc81a1e",
   "metadata": {},
   "source": [
    "Повторим аналогичную процедуру для нашего \"идеального\" датафрейма. "
   ]
  },
  {
   "cell_type": "code",
   "execution_count": null,
   "id": "5d89e894",
   "metadata": {},
   "outputs": [],
   "source": [
    "matches_concat = matches_concat.progress_apply(blocking, axis=1)"
   ]
  },
  {
   "cell_type": "code",
   "execution_count": null,
   "id": "3d6104ad",
   "metadata": {},
   "outputs": [],
   "source": [
    "matches_concat['should_block'].value_counts()"
   ]
  },
  {
   "cell_type": "code",
   "execution_count": null,
   "id": "e7dc9488",
   "metadata": {},
   "outputs": [],
   "source": [
    "matches_concat = matches_concat.loc[matches_concat['should_block'] == 0]\n",
    "matches_concat = matches_concat.drop(columns=['should_block'], axis=1)\n",
    "matches_concat.head()"
   ]
  },
  {
   "cell_type": "markdown",
   "id": "500bcec9",
   "metadata": {},
   "source": [
    "### Преобразование изображений в вектор"
   ]
  },
  {
   "cell_type": "code",
   "execution_count": null,
   "id": "23c6fc22",
   "metadata": {},
   "outputs": [],
   "source": []
  },
  {
   "cell_type": "code",
   "execution_count": null,
   "id": "b303b667",
   "metadata": {},
   "outputs": [],
   "source": [
    "#\n",
    "\n",
    "train_datagen = ImageDataGenerator(rescale=1./255)\n",
    "train_gen_flow = train_datagen.flow_from_dataframe(\n",
    "        dataframe=data_concat,\n",
    "        directory=Path(train_images_path),\n",
    "        x_col='image',\n",
    "        y_col='score',\n",
    "        target_size=(224, 224),\n",
    "        batch_size=16,\n",
    "        class_mode='input',\n",
    "        seed=12345)\n",
    "\n",
    "features, target = train_gen_flow.next()"
   ]
  },
  {
   "cell_type": "code",
   "execution_count": null,
   "id": "0503d272",
   "metadata": {},
   "outputs": [],
   "source": [
    "# Создадим свёрточную нейросеть, они позволяют «выделить» главные компоненты изображений\n",
    "\n",
    "def create_model():\n",
    "    backbone = ResNet50(input_shape=(224, 224, 3),\n",
    "                        include_top=False,\n",
    "                        weights='imagenet')\n",
    "\n",
    "    model = Sequential()\n",
    "    model.add(backbone)\n",
    "    model.add(GlobalAveragePooling2D())\n",
    "    model.compile(loss='mean_squared_error', optimizer=Adam(learning_rate=0.0001), metrics=['mae'])\n",
    "\n",
    "    return model"
   ]
  },
  {
   "cell_type": "code",
   "execution_count": null,
   "id": "3b479789",
   "metadata": {},
   "outputs": [],
   "source": [
    "#\n",
    "\n",
    "def image_vectorization(model, train_data):\n",
    "    predictions = model.predict(train_data)\n",
    "    return predictions"
   ]
  },
  {
   "cell_type": "code",
   "execution_count": null,
   "id": "48cebded",
   "metadata": {},
   "outputs": [],
   "source": [
    "#\n",
    "\n",
    "image_embedings = image_vectorization(create_model(), train_gen_flow)\n",
    "image_embedings.shape"
   ]
  },
  {
   "cell_type": "code",
   "execution_count": null,
   "id": "3a149f61",
   "metadata": {},
   "outputs": [],
   "source": []
  },
  {
   "cell_type": "code",
   "execution_count": null,
   "id": "75155a19",
   "metadata": {},
   "outputs": [],
   "source": []
  },
  {
   "cell_type": "code",
   "execution_count": null,
   "id": "ef75e671",
   "metadata": {},
   "outputs": [],
   "source": []
  },
  {
   "cell_type": "markdown",
   "id": "2fe767de",
   "metadata": {},
   "source": [
    "### Преобразование текстов в вектор"
   ]
  },
  {
   "cell_type": "code",
   "execution_count": null,
   "id": "1e3a1a4c",
   "metadata": {},
   "outputs": [],
   "source": [
    "# Загрузим трансформер Bert и предпрцессор для него\n",
    "\n",
    "bert = keras_nlp.models.BertBackbone.from_preset('bert_base_en')\n",
    "preprocessor = keras_nlp.models.BertPreprocessor.from_preset('bert_base_en')"
   ]
  },
  {
   "cell_type": "code",
   "execution_count": null,
   "id": "ce027a53",
   "metadata": {},
   "outputs": [],
   "source": []
  },
  {
   "cell_type": "code",
   "execution_count": null,
   "id": "7bfaffad",
   "metadata": {},
   "outputs": [],
   "source": []
  },
  {
   "cell_type": "code",
   "execution_count": null,
   "id": "0f7fb6c8",
   "metadata": {},
   "outputs": [],
   "source": []
  },
  {
   "cell_type": "code",
   "execution_count": null,
   "id": "0100ce50",
   "metadata": {},
   "outputs": [],
   "source": []
  },
  {
   "cell_type": "code",
   "execution_count": null,
   "id": "1f584869",
   "metadata": {},
   "outputs": [],
   "source": []
  },
  {
   "cell_type": "code",
   "execution_count": null,
   "id": "61ff85e4",
   "metadata": {},
   "outputs": [],
   "source": []
  },
  {
   "cell_type": "markdown",
   "id": "2c139a91",
   "metadata": {},
   "source": [
    "### Описание полученных данных"
   ]
  },
  {
   "cell_type": "code",
   "execution_count": null,
   "id": "9d0f56bb",
   "metadata": {},
   "outputs": [],
   "source": []
  },
  {
   "cell_type": "code",
   "execution_count": null,
   "id": "63cf0d47",
   "metadata": {},
   "outputs": [],
   "source": []
  },
  {
   "cell_type": "code",
   "execution_count": null,
   "id": "272a21a4",
   "metadata": {},
   "outputs": [],
   "source": []
  },
  {
   "cell_type": "code",
   "execution_count": null,
   "id": "94e1d3b9",
   "metadata": {},
   "outputs": [],
   "source": []
  },
  {
   "cell_type": "code",
   "execution_count": null,
   "id": "85d142ee",
   "metadata": {},
   "outputs": [],
   "source": []
  },
  {
   "cell_type": "code",
   "execution_count": null,
   "id": "fcb0d183",
   "metadata": {},
   "outputs": [],
   "source": []
  },
  {
   "cell_type": "markdown",
   "id": "233e63af",
   "metadata": {},
   "source": [
    "## Обучение моделей"
   ]
  },
  {
   "cell_type": "code",
   "execution_count": null,
   "id": "ace4eaa9",
   "metadata": {},
   "outputs": [],
   "source": []
  },
  {
   "cell_type": "code",
   "execution_count": null,
   "id": "d371d63f",
   "metadata": {},
   "outputs": [],
   "source": []
  },
  {
   "cell_type": "code",
   "execution_count": null,
   "id": "3b6cd52d",
   "metadata": {},
   "outputs": [],
   "source": []
  },
  {
   "cell_type": "code",
   "execution_count": null,
   "id": "0bc11331",
   "metadata": {},
   "outputs": [],
   "source": []
  },
  {
   "cell_type": "code",
   "execution_count": null,
   "id": "bf3e2eef",
   "metadata": {},
   "outputs": [],
   "source": []
  },
  {
   "cell_type": "code",
   "execution_count": null,
   "id": "f13c2563",
   "metadata": {},
   "outputs": [],
   "source": []
  },
  {
   "cell_type": "code",
   "execution_count": null,
   "id": "3073d886",
   "metadata": {},
   "outputs": [],
   "source": []
  },
  {
   "cell_type": "code",
   "execution_count": null,
   "id": "5f4f2ce1",
   "metadata": {},
   "outputs": [],
   "source": []
  },
  {
   "cell_type": "code",
   "execution_count": null,
   "id": "f4a452d0",
   "metadata": {},
   "outputs": [],
   "source": []
  },
  {
   "cell_type": "code",
   "execution_count": null,
   "id": "9fa97a77",
   "metadata": {},
   "outputs": [],
   "source": []
  },
  {
   "cell_type": "code",
   "execution_count": null,
   "id": "71c27240",
   "metadata": {},
   "outputs": [],
   "source": []
  },
  {
   "cell_type": "code",
   "execution_count": null,
   "id": "1f7f4f3f",
   "metadata": {},
   "outputs": [],
   "source": []
  },
  {
   "cell_type": "code",
   "execution_count": null,
   "id": "b7d4d202",
   "metadata": {},
   "outputs": [],
   "source": []
  },
  {
   "cell_type": "code",
   "execution_count": null,
   "id": "4d956648",
   "metadata": {},
   "outputs": [],
   "source": []
  },
  {
   "cell_type": "code",
   "execution_count": null,
   "id": "8fe41141",
   "metadata": {},
   "outputs": [],
   "source": []
  },
  {
   "cell_type": "code",
   "execution_count": null,
   "id": "5edbcb87",
   "metadata": {},
   "outputs": [],
   "source": []
  },
  {
   "cell_type": "code",
   "execution_count": null,
   "id": "649bf807",
   "metadata": {},
   "outputs": [],
   "source": []
  },
  {
   "cell_type": "code",
   "execution_count": null,
   "id": "7f47e9d9",
   "metadata": {},
   "outputs": [],
   "source": []
  },
  {
   "cell_type": "code",
   "execution_count": null,
   "id": "9943994b",
   "metadata": {},
   "outputs": [],
   "source": []
  },
  {
   "cell_type": "code",
   "execution_count": null,
   "id": "f23b2992",
   "metadata": {},
   "outputs": [],
   "source": []
  }
 ],
 "metadata": {
  "kernelspec": {
   "display_name": "Python 3 (ipykernel)",
   "language": "python",
   "name": "python3"
  },
  "language_info": {
   "codemirror_mode": {
    "name": "ipython",
    "version": 3
   },
   "file_extension": ".py",
   "mimetype": "text/x-python",
   "name": "python",
   "nbconvert_exporter": "python",
   "pygments_lexer": "ipython3",
   "version": "3.9.18"
  },
  "toc": {
   "base_numbering": 1,
   "nav_menu": {
    "height": "12px",
    "width": "164px"
   },
   "number_sections": true,
   "sideBar": true,
   "skip_h1_title": true,
   "title_cell": "Table of Contents",
   "title_sidebar": "Contents",
   "toc_cell": true,
   "toc_position": {
    "height": "calc(100% - 180px)",
    "left": "10px",
    "top": "150px",
    "width": "384px"
   },
   "toc_section_display": true,
   "toc_window_display": true
  },
  "varInspector": {
   "cols": {
    "lenName": 16,
    "lenType": 16,
    "lenVar": 40
   },
   "kernels_config": {
    "python": {
     "delete_cmd_postfix": "",
     "delete_cmd_prefix": "del ",
     "library": "var_list.py",
     "varRefreshCmd": "print(var_dic_list())"
    },
    "r": {
     "delete_cmd_postfix": ") ",
     "delete_cmd_prefix": "rm(",
     "library": "var_list.r",
     "varRefreshCmd": "cat(var_dic_list()) "
    }
   },
   "types_to_exclude": [
    "module",
    "function",
    "builtin_function_or_method",
    "instance",
    "_Feature"
   ],
   "window_display": false
  }
 },
 "nbformat": 4,
 "nbformat_minor": 5
}
